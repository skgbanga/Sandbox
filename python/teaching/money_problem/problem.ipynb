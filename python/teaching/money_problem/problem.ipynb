{
 "cells": [
  {
   "cell_type": "markdown",
   "metadata": {},
   "source": [
    "### open a file\n",
    "The best way to open a file in python is:\n",
    "```\n",
    "with open(filename, 'r') as f:\n",
    "    ...\n",
    "```\n",
    "\n",
    "When one does `f = open(filename, 'r')` a number of system resources are allocated for making file read possible, and it is good practice to call `f.close(...)` when you don't need the file anymore instead of calling it at the end of the program. However, it is easy to forget calling `f.close(...)` so python has a convenient syntax `with` which will automatically close the file when `with` statement finishes. "
   ]
  },
  {
   "cell_type": "markdown",
   "metadata": {},
   "source": [
    "### reading from a file\n",
    "when one does `f.read()` or `f.readlines()`, you read the entire file from your local disc to your memory. For very large files, this can be disastrous. It is better to read lines from a file in a sequential manner one by one\n",
    "\n",
    "```\n",
    "with open(filename) as f:\n",
    "    for line in f:\n",
    "        ...\n",
    "```\n",
    "\n",
    "The above code reads lines from file in a sequential manner."
   ]
  },
  {
   "cell_type": "markdown",
   "metadata": {},
   "source": [
    "### Using a dictionary\n",
    "The most important data structure in python is dictionary. It is essentially a mapping between `keys` and `values`"
   ]
  },
  {
   "cell_type": "code",
   "execution_count": 5,
   "metadata": {},
   "outputs": [
    {
     "name": "stdout",
     "output_type": "stream",
     "text": [
      "{'fruit': 'apple', 'vegetable': 'potato'}\n"
     ]
    }
   ],
   "source": [
    "d = {}\n",
    "d['fruit'] = 'apple'\n",
    "d['vegetable'] = 'potato'\n",
    "print(d)"
   ]
  },
  {
   "cell_type": "markdown",
   "metadata": {},
   "source": [
    "#### Note\n",
    "If one tries to access a \"key\" which is not inside a dictionary, you get an error"
   ]
  },
  {
   "cell_type": "code",
   "execution_count": 6,
   "metadata": {},
   "outputs": [
    {
     "ename": "KeyError",
     "evalue": "'drink'",
     "output_type": "error",
     "traceback": [
      "\u001b[0;31m---------------------------------------------------------------------------\u001b[0m",
      "\u001b[0;31mKeyError\u001b[0m                                  Traceback (most recent call last)",
      "\u001b[0;32m<ipython-input-6-dfa3bc9211a9>\u001b[0m in \u001b[0;36m<module>\u001b[0;34m\u001b[0m\n\u001b[0;32m----> 1\u001b[0;31m \u001b[0md\u001b[0m\u001b[0;34m[\u001b[0m\u001b[0;34m'drink'\u001b[0m\u001b[0;34m]\u001b[0m\u001b[0;34m\u001b[0m\u001b[0m\n\u001b[0m",
      "\u001b[0;31mKeyError\u001b[0m: 'drink'"
     ]
    }
   ],
   "source": [
    "d['drink']"
   ]
  },
  {
   "cell_type": "markdown",
   "metadata": {},
   "source": [
    "Note that there is a special function in dictionary called `setdefault` and takes two arguments. A `key` and a `value`. If the key is present in the dictionary, it returns the value corresponding to that key, or it inserts the `value` in the dictionary and return that. Based on all this, let's understand this code:"
   ]
  },
  {
   "cell_type": "code",
   "execution_count": 9,
   "metadata": {},
   "outputs": [
    {
     "name": "stdout",
     "output_type": "stream",
     "text": [
      "shalabh [97, 91, 16, 44, 41, 54, 18, 45, 18, 60, 59, 32, 13, 84]\n",
      "nidhi [70, 30, 41, 83, 33, 57, 58, 41, 35, 51, 98, 77, 48, 64, 25, 52, 96]\n",
      "sanjeev [82, 24, 94, 93]\n",
      "chaman [40, 32, 80, 14, 71]\n",
      "sonu [37, 10, 39, 38, 31, 45, 14, 86, 71, 39, 23, 54, 74, 40]\n",
      "mitali [55, 21, 43, 54, 43]\n",
      "aanya [66, 40, 25, 57]\n",
      "kalyani [50, 90, 13, 44, 64, 17, 35, 20, 55, 91, 13]\n",
      "vijay [79, 51, 77, 28, 81]\n",
      "vishesh [14, 68, 59, 59, 43, 92, 73, 94, 88, 40]\n",
      "sandeep [46, 71, 38, 65, 49]\n",
      "neha [64, 90, 21, 20, 24, 68]\n"
     ]
    }
   ],
   "source": [
    "records = {}\n",
    "with open('data', 'r') as f:\n",
    "    for line in f:\n",
    "        name, cnt = line.split(' ')\n",
    "        records.setdefault(name, []).append(int(cnt))\n",
    "\n",
    "for key, value in records.items():\n",
    "    print(key, value)"
   ]
  },
  {
   "cell_type": "markdown",
   "metadata": {},
   "source": [
    "`.items()` is a function of the dictionary which returns us things inside dictionary in a (`key`, `value`) pair. \n",
    "\n",
    "Now we have read the entire file, and stored the data in a rather convenient format. All we need to do now, is \"sort\" the data by `length` of the value. "
   ]
  },
  {
   "cell_type": "code",
   "execution_count": 12,
   "metadata": {},
   "outputs": [],
   "source": [
    "def key(item):\n",
    "    return len(item[1])\n",
    "\n",
    "ordered = sorted(records.items(), reverse=True, key=key)"
   ]
  },
  {
   "cell_type": "markdown",
   "metadata": {},
   "source": [
    "Few things in the above code:\n",
    "\n",
    " - we use python function called `sorted`. https://docs.python.org/3/howto/sorting.html is a good guide on understanding more about this function\n",
    " - we use `reverse=True` to sort in decreasing order\n",
    " - we pass a `key` to use for sorting. Remember we are trying to sort dictionary by the length of the value, so we make that our key. "
   ]
  },
  {
   "cell_type": "markdown",
   "metadata": {},
   "source": [
    "Let's print the ordered sequences"
   ]
  },
  {
   "cell_type": "code",
   "execution_count": 15,
   "metadata": {},
   "outputs": [
    {
     "name": "stdout",
     "output_type": "stream",
     "text": [
      "nidhi [70, 30, 41, 83, 33, 57, 58, 41, 35, 51, 98, 77, 48, 64, 25, 52, 96]\n",
      "shalabh [97, 91, 16, 44, 41, 54, 18, 45, 18, 60, 59, 32, 13, 84]\n",
      "sonu [37, 10, 39, 38, 31, 45, 14, 86, 71, 39, 23, 54, 74, 40]\n",
      "kalyani [50, 90, 13, 44, 64, 17, 35, 20, 55, 91, 13]\n",
      "vishesh [14, 68, 59, 59, 43, 92, 73, 94, 88, 40]\n",
      "neha [64, 90, 21, 20, 24, 68]\n",
      "chaman [40, 32, 80, 14, 71]\n",
      "mitali [55, 21, 43, 54, 43]\n",
      "vijay [79, 51, 77, 28, 81]\n",
      "sandeep [46, 71, 38, 65, 49]\n",
      "sanjeev [82, 24, 94, 93]\n",
      "aanya [66, 40, 25, 57]\n"
     ]
    }
   ],
   "source": [
    "for key, value in ordered:\n",
    "    print(key, value)"
   ]
  },
  {
   "cell_type": "markdown",
   "metadata": {},
   "source": [
    "This is exactly the order in which we want our final output. The only thing remaining is that we also want to sort all the pocket monies and only take the top 5 of those before printing. Let's do that now"
   ]
  },
  {
   "cell_type": "code",
   "execution_count": 16,
   "metadata": {},
   "outputs": [
    {
     "name": "stdout",
     "output_type": "stream",
     "text": [
      "nidhi 17 [98, 96, 83, 77, 70]\n",
      "shalabh 14 [97, 91, 84, 60, 59]\n",
      "sonu 14 [86, 74, 71, 54, 45]\n",
      "kalyani 11 [91, 90, 64, 55, 50]\n",
      "vishesh 10 [94, 92, 88, 73, 68]\n",
      "neha 6 [90, 68, 64, 24, 21]\n",
      "chaman 5 [80, 71, 40, 32, 14]\n",
      "mitali 5 [55, 54, 43, 43, 21]\n",
      "vijay 5 [81, 79, 77, 51, 28]\n",
      "sandeep 5 [71, 65, 49, 46, 38]\n",
      "sanjeev 4 [94, 93, 82, 24]\n",
      "aanya 4 [66, 57, 40, 25]\n"
     ]
    }
   ],
   "source": [
    "for name, cnts in ordered:\n",
    "    print(name, len(cnts), sorted(cnts, reverse=True)[:5])"
   ]
  },
  {
   "cell_type": "markdown",
   "metadata": {},
   "source": [
    "Since we need to `sort` the pocket monies, we use our `sorted` function again which `reverse` set to `True` again. `[:5]` is called list indexing. Give this article a quick read: https://www.tutorialspoint.com/python/python_lists.htm\n",
    "\n",
    "Two things I am using in the line above:\n",
    "\n",
    " - `list[0:n]` is same as `list[:n]`\n",
    " - `list[:n]` implicitly means `list[:min(len(list), n)]` i.e. if n is more than length of list, it only returns up the length"
   ]
  },
  {
   "cell_type": "markdown",
   "metadata": {},
   "source": [
    "Here is the final solution in complete form"
   ]
  },
  {
   "cell_type": "code",
   "execution_count": 17,
   "metadata": {
    "scrolled": true
   },
   "outputs": [
    {
     "name": "stdout",
     "output_type": "stream",
     "text": [
      "nidhi 17 [98, 96, 83, 77, 70]\n",
      "shalabh 14 [97, 91, 84, 60, 59]\n",
      "sonu 14 [86, 74, 71, 54, 45]\n",
      "kalyani 11 [91, 90, 64, 55, 50]\n",
      "vishesh 10 [94, 92, 88, 73, 68]\n",
      "neha 6 [90, 68, 64, 24, 21]\n",
      "chaman 5 [80, 71, 40, 32, 14]\n",
      "mitali 5 [55, 54, 43, 43, 21]\n",
      "vijay 5 [81, 79, 77, 51, 28]\n",
      "sandeep 5 [71, 65, 49, 46, 38]\n",
      "sanjeev 4 [94, 93, 82, 24]\n",
      "aanya 4 [66, 57, 40, 25]\n"
     ]
    }
   ],
   "source": [
    "records = {}\n",
    "with open('data', 'r') as f:\n",
    "    for line in f:\n",
    "        name, cnt = line.split(' ')\n",
    "        records.setdefault(name, []).append(int(cnt))\n",
    "\n",
    "\n",
    "ordered = sorted(records.items(), reverse=True, key=lambda x: len(x[1]))\n",
    "for name, cnts in ordered:\n",
    "    print(name, len(cnts), sorted(cnts, reverse=True)[:5])"
   ]
  },
  {
   "cell_type": "code",
   "execution_count": null,
   "metadata": {},
   "outputs": [],
   "source": []
  }
 ],
 "metadata": {
  "kernelspec": {
   "display_name": "Python 3",
   "language": "python",
   "name": "python3"
  },
  "language_info": {
   "codemirror_mode": {
    "name": "ipython",
    "version": 3
   },
   "file_extension": ".py",
   "mimetype": "text/x-python",
   "name": "python",
   "nbconvert_exporter": "python",
   "pygments_lexer": "ipython3",
   "version": "3.7.0"
  }
 },
 "nbformat": 4,
 "nbformat_minor": 2
}
