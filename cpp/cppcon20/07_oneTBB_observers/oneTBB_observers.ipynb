{
 "cells": [
  {
   "cell_type": "markdown",
   "metadata": {},
   "source": [
    "# oneTBB task_scheduler_observer"
   ]
  },
  {
   "cell_type": "markdown",
   "metadata": {},
   "source": [
    "##### Sections\n",
    "- [An overview of task_scheduler_obsever](#The-partitioners-available-in-oneTBB)\n",
    "- _Code_: [Observe when threads enter an explicit task_arena](#Observe-when-threads-enter-an-explicit-task_arena)"
   ]
  },
  {
   "cell_type": "markdown",
   "metadata": {},
   "source": [
    "## Learning Objectives\n",
    "* Learn about how to create and use a task_scheduler_observer in oneTBB"
   ]
  },
  {
   "cell_type": "markdown",
   "metadata": {},
   "source": [
    "## An overview of task_scheduler_observer\n",
    "\n",
    "In oneTBB, we can derive an observer from `task_scheduler_observer` and define\n",
    "functions that are called when threads enter and leave the oneTBB scheduler, or\n",
    "enter and leave a specific task arena.\n",
    "\n",
    "We can use these functions to trace program execution or to call OS-specific functions\n",
    "for pinning and affinitization.\n",
    "\n",
    "In this module, we will use a `task_scheduler_observer` to record what `task_arena` slot\n",
    "a thread is associated with when it enters an explicit task arena. We can query the\n",
    "slot number with the function `tbb::this_task_arena::current_thread_index()`. In a real\n",
    "application, we might use this information to pin the thread to a specific core or set\n",
    "of cores."
   ]
  },
  {
   "cell_type": "markdown",
   "metadata": {},
   "source": [
    "## Observe when threads enter an explicit task_arena\n",
    "\n",
    "In this exercise, we execute a `tbb::parallel_for` that has a check in\n",
    "each iteration. The iteration checks if the thread local variable my_tid \n",
    "has been set and matches the result of `tbb::this_task_arena::current_thread_index()`. \n",
    "In the implementation that is provided, this check will fail, ending the program\n",
    "early.\n",
    "\n",
    "The exercise is to fix the `tid_observer` class and use it to properly set\n",
    "the thread local value of `my_tid` for each thread that participates in \n",
    "executing iterations of the `parallel_for`.\n",
    "\n",
    "The interface of `task_scheduler_observer` is provided below.\n",
    "\n",
    "```cpp\n",
    "// Defined in header <tbb/task_scheduler_observer.h>\n",
    "\n",
    "namespace tbb {\n",
    "\n",
    "   class task_scheduler_observer {\n",
    "   public:\n",
    "       task_scheduler_observer();\n",
    "       explicit task_scheduler_observer( task_arena& a );\n",
    "       virtual ~task_scheduler_observer();\n",
    "\n",
    "       void observe( bool state=true );\n",
    "       bool is_observing() const;\n",
    "\n",
    "       virtual void on_scheduler_entry( bool is_worker ) {}\n",
    "       virtual void on_scheduler_exit( bool is_worker } {}\n",
    "   };\n",
    "\n",
    "}\n",
    "```\n",
    "\n",
    "Perform the following steps to complete this exercise:\n",
    "1. Inspect the code cell below, then click run ▶ to save the code to a file\n",
    "2. Run ▶ the cell in the __Build and Run__ section below the code snippet to compile and execute the code. The loop should not complete since my_tid will not be set correctly.\n",
    "3. Modify the code so that it correctly associates a thread index with each thread that enters the task_arena.\n",
    "  1. In the `tid_observer` class, fix the `INCORRECT_VALUE`.\n",
    "  2. In the `main` function, construct a `tid_observer` object to observe `task_arena a`.\n",
    "4. Run ▶ the cell in the __Build and Run__ section again compile and execute the modified code. The loop should now complete. "
   ]
  },
  {
   "cell_type": "code",
   "execution_count": null,
   "metadata": {},
   "outputs": [],
   "source": [
    "%%writefile lab/observer.cpp\n",
    "//==============================================================\n",
    "// Copyright (c) 2020 Intel Corporation\n",
    "//\n",
    "// SPDX-License-Identifier: Apache-2.0\n",
    "// =============================================================\n",
    "\n",
    "#include <exception>\n",
    "#include <iostream>\n",
    "#include <tbb/tbb.h>\n",
    "\n",
    "#define INCORRECT_VALUE -1\n",
    "thread_local int my_tid = INCORRECT_VALUE;\n",
    "\n",
    "class tid_observer : public tbb::task_scheduler_observer {\n",
    "public:\n",
    "  tid_observer(tbb::task_arena &a) : tbb::task_scheduler_observer{a} { observe(true); }\n",
    "  void on_scheduler_entry( bool is_worker ) override {\n",
    "    // STEP 3.A: replace the INCORRECT_VALUE with a call to tbb::this_task_arena::current_thread_index()\n",
    "    my_tid = INCORRECT_VALUE;\n",
    "  }\n",
    "};\n",
    "\n",
    "int main() {\n",
    "  tbb::task_arena a;\n",
    "  // STEP 3.B: construct a tid_observer, passing \"a\" to the constructor\n",
    "  try {\n",
    "    a.execute([]() {\n",
    "      tbb::parallel_for(0, 1000000, [](int i) {\n",
    "        const int time_per_iteration = 1000; // 1 us\n",
    "        auto t0 = std::chrono::high_resolution_clock::now();\n",
    "        while ((std::chrono::high_resolution_clock::now() - t0).count() < time_per_iteration);\n",
    "        if (my_tid == -1 || my_tid != tbb::this_task_arena::current_thread_index()) {\n",
    "          std::cout << \"my_tid not set correctly on entry!\\n\";\n",
    "          throw std::exception{};\n",
    "        }\n",
    "      });\n",
    "    });\n",
    "  } catch (...) {\n",
    "    std::cout << \"Did not complete loop.\\n\";\n",
    "    return 1;\n",
    "  }\n",
    "  std::cout << \"Completed loop.\\n\";\n",
    "  return 0;\n",
    "}"
   ]
  },
  {
   "cell_type": "code",
   "execution_count": null,
   "metadata": {},
   "outputs": [],
   "source": [
    "!chmod 755 q; chmod 755 ./scripts/run_observer.sh; if [ -x \"$(command -v qsub)\" ]; then ./q scripts/run_observer.sh; else ./scripts/run_observer.sh; fi"
   ]
  },
  {
   "cell_type": "markdown",
   "metadata": {},
   "source": [
    "## Solution (Don't peak unless you have to)"
   ]
  },
  {
   "cell_type": "code",
   "execution_count": null,
   "metadata": {
    "jupyter": {
     "source_hidden": true
    }
   },
   "outputs": [],
   "source": [
    "%%writefile solutions/observer-solved.cpp\n",
    "//==============================================================\n",
    "// Copyright (c) 2020 Intel Corporation\n",
    "//\n",
    "// SPDX-License-Identifier: Apache-2.0\n",
    "// =============================================================\n",
    "\n",
    "#include <exception>\n",
    "#include <iostream>\n",
    "#include <tbb/tbb.h>\n",
    "\n",
    "#define INCORRECT_VALUE -1\n",
    "thread_local int my_tid = INCORRECT_VALUE;\n",
    "\n",
    "class tid_observer : public tbb::task_scheduler_observer {\n",
    "public:\n",
    "  tid_observer(tbb::task_arena &a) : tbb::task_scheduler_observer{a} { observe(true); }\n",
    "  void on_scheduler_entry( bool is_worker ) override {\n",
    "    // STEP 3.A: replace the INCORRECT_VALUE with a call to tbb::this_task_arena::current_thread_index()\n",
    "    my_tid = tbb::this_task_arena::current_thread_index();\n",
    "  }\n",
    "};\n",
    "\n",
    "int main() {\n",
    "  tbb::task_arena a;\n",
    "  // STEP 3.B: construct a tid_observer, passing \"a\" to the constructor\n",
    "  tid_observer to(a);\n",
    "  try {\n",
    "    a.execute([]() {\n",
    "      tbb::parallel_for(0, 1000000, [](int i) {\n",
    "        const int time_per_iteration = 1000; // 1 us\n",
    "        auto t0 = std::chrono::high_resolution_clock::now();\n",
    "        while ((std::chrono::high_resolution_clock::now() - t0).count() < time_per_iteration);\n",
    "        if (my_tid == -1 || my_tid != tbb::this_task_arena::current_thread_index()) {\n",
    "          std::cout << \"my_tid not set correctly on entry!\\n\";\n",
    "          throw std::exception{};\n",
    "        }\n",
    "      });\n",
    "    });\n",
    "  } catch (...) {\n",
    "    std::cout << \"Did not complete loop.\\n\";\n",
    "    return 1;\n",
    "  }\n",
    "  std::cout << \"Completed loop.\\n\";\n",
    "  return 0;\n",
    "}"
   ]
  },
  {
   "cell_type": "code",
   "execution_count": null,
   "metadata": {
    "jupyter": {
     "source_hidden": true
    }
   },
   "outputs": [],
   "source": [
    "!chmod 755 q; chmod 755 ./scripts/run_observer-solved.sh; if [ -x \"$(command -v qsub)\" ]; then ./q scripts/run_observer-solved.sh; else ./scripts/run_observer-solved.sh; fi"
   ]
  }
 ],
 "metadata": {
  "kernelspec": {
   "display_name": "Python 3.7 (Intel® oneAPI)",
   "language": "python",
   "name": "c009-intel_distribution_of_python_3_oneapi-beta05-python"
  },
  "language_info": {
   "codemirror_mode": {
    "name": "ipython",
    "version": 3
   },
   "file_extension": ".py",
   "mimetype": "text/x-python",
   "name": "python",
   "nbconvert_exporter": "python",
   "pygments_lexer": "ipython3",
   "version": "3.7.7"
  }
 },
 "nbformat": 4,
 "nbformat_minor": 4
}
