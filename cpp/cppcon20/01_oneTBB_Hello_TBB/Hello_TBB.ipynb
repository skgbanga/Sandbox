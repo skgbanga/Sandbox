{
 "cells": [
  {
   "cell_type": "markdown",
   "metadata": {},
   "source": [
    "# Hello, TBB!"
   ]
  },
  {
   "cell_type": "markdown",
   "metadata": {},
   "source": [
    "##### Sections\n",
    "- _Code_: [Hello, TBB!](#Hello,-TBB!)"
   ]
  },
  {
   "cell_type": "markdown",
   "metadata": {},
   "source": [
    "This set of Jupyter Notebooks contains a series of exercises that provide a taste of the features of the oneTBB library. \n",
    "To learn more about oneTBB, you can visit [oneTBB on Github](https://github.com/oneapi-src/oneTBB) or explore the Apress book \n",
    "[Pro TBB: C++ Parallel Programming with Threading Building Blocks (TBB)](https://www.apress.com/gp/book/9781484243978).\n",
    "\n",
    "This module will familiarize you with the basic structure and flow of the tutorials, and allow you do a practice\n",
    "build and run of a simple oneTBB application.\n",
    "\n",
    "## Learning Objectives\n",
    "\n",
    "* To become familiar with the structure and general flow of the tutorials\n",
    "* Run a first example that uses oneTBB to execute two tasks in parallel.\n",
    "\n",
    "## General Flow of the Tutorials\n",
    "\n",
    "Typically each exercise in the oneTBB modules provides three sections: (1) a problem statement with\n",
    "a working serial implementation, (2) the skeleton of a parallel implementation that describes steps\n",
    "you need to perform to complete the exercise and (3) a completed solution. To get the most out of each\n",
    "exercise, you should not look at the completed solution unless you really get stuck.\n",
    "\n",
    "The remainder of this module provides a simple example that will follows the flow described\n",
    "above and results in a simple TBB parallel application.\n",
    "\n",
    "## Hello, TBB!\n",
    "\n",
    "Let's start by creating an application that invokes a function, `sleep_then_print` twice. One \n",
    "invocation is ``sleep_then_print(2, \"Hello\")`` and the other is ``sleep_then_print(1, \", TBB!\")``.  \n",
    "When executed sequentially, one after the other, the first function call will sleep for 2 seconds \n",
    "then print \"Hello\" and the second function call will sleep for 1 more second and then print \", TBB!\".\n",
    "\n",
    "Inspect the code below - there are no modifications necessary. This code is our serial base case. Run the first \n",
    "cell to create the file, then run the cell below it to compile and execute the code.\n",
    "\n",
    "1. Inspect the code cell below, then click run ▶ to save the code to a file\n",
    "2. Run ▶ the cell in the __Build and Run__ section below the code snippet to compile and execute the code in the saved file"
   ]
  },
  {
   "cell_type": "code",
   "execution_count": null,
   "metadata": {},
   "outputs": [],
   "source": [
    "%%writefile lab/hello-tbb.cpp\n",
    "//==============================================================\n",
    "// Copyright (c) 2020 Intel Corporation\n",
    "//\n",
    "// SPDX-License-Identifier: Apache-2.0\n",
    "// =============================================================\n",
    "\n",
    "#include <chrono>\n",
    "#include <iostream>\n",
    "#include <thread>\n",
    "\n",
    "void sleep_then_print(unsigned sec, const char *str) {\n",
    "  std::this_thread::sleep_for(std::chrono::seconds(sec));\n",
    "  std::cout << str << std::flush;\n",
    "}\n",
    "\n",
    "int main() {\n",
    "  std::cout << \"Running sequentially:\\n\";\n",
    "  auto st0 = std::chrono::high_resolution_clock::now();\n",
    "  sleep_then_print(2, \"Hello\");\n",
    "  sleep_then_print(1, \", TBB!\");\n",
    "  auto st1 = std::chrono::high_resolution_clock::now();\n",
    "    \n",
    "  std::cout << \"\\nSerial time   = \" << 1e-9 * (st1-st0).count() << \" seconds\\n\";\n",
    "}"
   ]
  },
  {
   "cell_type": "markdown",
   "metadata": {},
   "source": [
    "### Build and Run\n",
    "Select the cell below and click Run ▶ to compile and execute the above example:"
   ]
  },
  {
   "cell_type": "code",
   "execution_count": null,
   "metadata": {},
   "outputs": [],
   "source": [
    "! chmod 755 q; chmod 755 ./scripts/run_hello-tbb.sh; if [ -x \"$(command -v qsub)\" ]; then ./q scripts/run_hello-tbb.sh; else ./scripts/run_hello-tbb.sh; fi"
   ]
  },
  {
   "cell_type": "markdown",
   "metadata": {},
   "source": [
    "## Use tbb::parallel_invoke to add concurrency\n",
    "\n",
    "Now we will add some concurrency to the code.\n",
    "\n",
    "In the code cell below, the features of the TBB library are made available by including `tbb.h`. All oneTBB classes \n",
    "and functions are in namespace `tbb`.\n",
    "\n",
    "An almost complete skeleton for the code is provide in the code cell. In the `main` function of our first example, \n",
    "the same two function calls are made again but we will use `tbb::parallel_invoke` to execute them concurrently. \n",
    "\n",
    "The interface of parallel_invoke needed for this example is shown below:\n",
    "\n",
    "```cpp\n",
    "template<typename... Functions>\n",
    "void parallel_invoke(Functions&&... fs);\n",
    "```\n",
    "\n",
    "This function executes two or more function objects in parallel. When executed concurrently, the two calls to \n",
    "``sleep_then_print`` will take approximately 2 seconds in wallclock time to complete. And, as a consequence \n",
    "of their concurrent execution, the output from the second call is likely to be printed first (it only slept \n",
    "for 1 second before printing) and, as a result, the output might look jumbled, \", TBB!Hello\".\n",
    "\n",
    "For this exercise, complete the following steps:\n",
    "\n",
    "1. Inspect the code cell below and make the following modifications.\n",
    "  1. Remove the `//` before all the lines, except the one with \"STEP 1\" in it.\n",
    "2. When the modifications are complete, click run ▶ to save the code to a file.\n",
    "3. Run ▶ the cell in the __Build and Run the modified code__ section below the code snippet to compile and execute the code in the saved file."
   ]
  },
  {
   "cell_type": "code",
   "execution_count": null,
   "metadata": {},
   "outputs": [],
   "source": [
    "%%writefile lab/hello-tbb-parallel.cpp\n",
    "//==============================================================\n",
    "// Copyright (c) 2020 Intel Corporation\n",
    "//\n",
    "// SPDX-License-Identifier: Apache-2.0\n",
    "// =============================================================\n",
    "\n",
    "#include <chrono>\n",
    "#include <iostream>\n",
    "#include <thread>\n",
    "#include <tbb/tbb.h>\n",
    "\n",
    "void sleep_then_print(unsigned sec, const char *str) {\n",
    "  std::this_thread::sleep_for(std::chrono::seconds(sec));\n",
    "  std::cout << str << std::flush;\n",
    "}\n",
    "\n",
    "int main() {\n",
    "  std::cout << \"\\nRunning in parallel:\\n\";\n",
    "  auto pt0 = std::chrono::high_resolution_clock::now();\n",
    "  // STEP 1: remove the '//' at the start of the lines to use parallel_invoke\n",
    "  //  tbb::parallel_invoke(\n",
    "  //  []() { \n",
    "    sleep_then_print(2, \"Hello\"); \n",
    "  // },\n",
    "  //  []() { \n",
    "    sleep_then_print(1, \", TBB!\"); \n",
    "  // });\n",
    "  auto pt1 = std::chrono::high_resolution_clock::now();\n",
    "    \n",
    "  std::cout << \"Parallel time = \" << 1e-9 * (pt1-pt0).count() << \" seconds\\n\";\n",
    "}"
   ]
  },
  {
   "cell_type": "markdown",
   "metadata": {},
   "source": [
    "### Build and Run\n",
    "Select the cell below and click Run ▶ to compile and execute the above example:"
   ]
  },
  {
   "cell_type": "code",
   "execution_count": null,
   "metadata": {},
   "outputs": [],
   "source": [
    "! chmod 755 q; chmod 755 ./scripts/run_hello-tbb-parallel.sh; if [ -x \"$(command -v qsub)\" ]; then ./q scripts/run_hello-tbb-parallel.sh; else ./scripts/run_hello-tbb-parallel.sh; fi"
   ]
  },
  {
   "cell_type": "markdown",
   "metadata": {},
   "source": [
    "## Solution (only peak if you need to)\n",
    "\n",
    "In general, a fully complete solution will be provided, but will be hidden in the notebook.  You can expand the cells to see,\n",
    "save, build and run the solution if needed."
   ]
  },
  {
   "cell_type": "code",
   "execution_count": null,
   "metadata": {
    "jupyter": {
     "source_hidden": true
    }
   },
   "outputs": [],
   "source": [
    "%%writefile solutions/hello-tbb-solved.cpp\n",
    "//==============================================================\n",
    "// Copyright (c) 2020 Intel Corporation\n",
    "//\n",
    "// SPDX-License-Identifier: Apache-2.0\n",
    "// =============================================================\n",
    "\n",
    "#include <chrono>\n",
    "#include <iostream>\n",
    "#include <thread>\n",
    "#include <tbb/tbb.h>\n",
    "\n",
    "void sleep_then_print(unsigned sec, const char *str) {\n",
    "  std::this_thread::sleep_for(std::chrono::seconds(sec));\n",
    "  std::cout << str << std::flush;\n",
    "}\n",
    "\n",
    "int main() {\n",
    "  std::cout << \"\\nRunning in parallel:\\n\";\n",
    "  auto pt0 = std::chrono::high_resolution_clock::now();\n",
    "  // STEP 1: remove the '//' at the start of the lines to use parallel_invoke\n",
    "  tbb::parallel_invoke(\n",
    "    []() { \n",
    "      sleep_then_print(2, \"Hello\"); \n",
    "    },\n",
    "    []() { \n",
    "      sleep_then_print(1, \", TBB!\"); \n",
    "    });\n",
    "  auto pt1 = std::chrono::high_resolution_clock::now();\n",
    "    \n",
    "  std::cout << \"Parallel time = \" << 1e-9 * (pt1-pt0).count() << \" seconds\\n\";\n",
    "}"
   ]
  },
  {
   "cell_type": "code",
   "execution_count": null,
   "metadata": {
    "jupyter": {
     "source_hidden": true
    }
   },
   "outputs": [],
   "source": [
    "! chmod 755 q; chmod 755 ./scripts/run_hello-tbb-solved.sh; if [ -x \"$(command -v qsub)\" ]; then ./q scripts/run_hello-tbb-solved.sh; else ./scripts/run_hello-tbb-solved.sh; fi"
   ]
  },
  {
   "cell_type": "markdown",
   "metadata": {},
   "source": [
    "## Next steps\n",
    "\n",
    "You have now completed a first exercise! The remaining modules have similar structure but include exercises\n",
    "that demand more than just uncommenting lines.\n",
    "\n",
    "If you are ready, go to [the next module](../02_oneTBB_algorithms/oneTBB_algorithms.ipynb)."
   ]
  }
 ],
 "metadata": {
  "kernelspec": {
   "display_name": "Python 3.7 (Intel® oneAPI)",
   "language": "python",
   "name": "c009-intel_distribution_of_python_3_oneapi-beta05-python"
  },
  "language_info": {
   "codemirror_mode": {
    "name": "ipython",
    "version": 3
   },
   "file_extension": ".py",
   "mimetype": "text/x-python",
   "name": "python",
   "nbconvert_exporter": "python",
   "pygments_lexer": "ipython3",
   "version": "3.7.7"
  }
 },
 "nbformat": 4,
 "nbformat_minor": 4
}
