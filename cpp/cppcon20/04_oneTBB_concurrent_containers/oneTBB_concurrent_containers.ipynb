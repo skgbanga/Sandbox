{
 "cells": [
  {
   "cell_type": "markdown",
   "metadata": {},
   "source": [
    "# oneTBB Concurrent Containers"
   ]
  },
  {
   "cell_type": "markdown",
   "metadata": {},
   "source": [
    "##### Sections\n",
    "- [oneTBB Concurrent Containers](#oneTBB-Concurrent-Containers)\n",
    "- _Code_: [A Producer-Consumer Application with tbb::concurrent_queue](#A-Producer-Consumer-Application-with-tbb::concurrent_queue)"
   ]
  },
  {
   "cell_type": "markdown",
   "metadata": {},
   "source": [
    "## Learning Objectives\n",
    "* Learn how thread-unsafe uses of a standard container might be addressed by using a oneTBB concurrent container"
   ]
  },
  {
   "cell_type": "markdown",
   "metadata": {},
   "source": [
    "# oneTBB Concurrent Containers"
   ]
  },
  {
   "cell_type": "markdown",
   "metadata": {},
   "source": [
    "The oneTBB library provides a number of \n",
    "[concurrent containers](https://spec.oneapi.com/versions/latest/elements/oneTBB/source/containers.html),\n",
    "including `concurrent_vector`, `concurrent_queue`, `concurrent_bounded_queue`, `concurrent_priority_queue`,\n",
    "`concurrent_hash_map`, `concurrent_unordered_map` and more. These classes provide optimized containers that \n",
    "permit multiple threads to simultaneously invoke certain functions on the same container."
   ]
  },
  {
   "cell_type": "markdown",
   "metadata": {},
   "source": [
    "## A Producer-Consumer Application with tbb::concurrent_priority_queue\n",
    "\n",
    "In this section, we will implement a very simple producer-consumer application that uses a shared \n",
    "priority queue. A producer thread will generate 1000 items, putting them into a queue and a consumer \n",
    "thread will read the items from the queue, generating a sum of the values as a result.\n",
    "\n",
    "### Run the sequential baseline implementation\n",
    "\n",
    "In our baseline implementation, the producer thread and the consumer thread are the same thread, the main thread.\n",
    "There is no concurrency expressed in our serial code, but if there was, we would have a race condition since we\n",
    "use a `std::priority_queue`. In the `while`-loop, we call `empty` before calling `pop`. If more than one thread\n",
    "was simultaneously popping from this shared queue, the queue might appear non-empty at the test in the `while`-loop\n",
    "but be empty by the time `pop` is called. This problem does not exist in our serial code since only one thread is\n",
    "used. In the next section, we will add concurrency and the potential for such a race condition.\n",
    "\n",
    "In this section, just inspect the sequential code below - there are no modifications necessary. Run the first cell \n",
    "to create the file, then run the cell below it to compile and execute the code. This represents the baseline for \n",
    "our producer-consumer exercise.\n",
    "\n",
    "1. Inspect the code cell below, then click run ▶ to save the code to a file\n",
    "2. Run ▶ the cell in the __Build and Run the baseline__ section below the code snippet to compile and execute the code in the saved file"
   ]
  },
  {
   "cell_type": "code",
   "execution_count": null,
   "metadata": {},
   "outputs": [],
   "source": [
    "%%writefile lab/q-serial.cpp\n",
    "//==============================================================\n",
    "// Copyright (c) 2020 Intel Corporation\n",
    "//\n",
    "// SPDX-License-Identifier: Apache-2.0\n",
    "// =============================================================\n",
    "\n",
    "#include <iostream>\n",
    "#include <queue>\n",
    "\n",
    "int main() {\n",
    "  int sum (0);\n",
    "  int item;\n",
    "\n",
    "  std::priority_queue<int> myPQ;\n",
    " \n",
    "  for(int i=0; i<10001; i+=1) {\n",
    "    myPQ.push(i);\n",
    "  }\n",
    " \n",
    "  while( !myPQ.empty() ) {\n",
    "    sum += myPQ.top();\n",
    "    myPQ.pop();\n",
    "  }\n",
    "\n",
    "  // prints \"total: 50005000\" (for 0,10001,1)\n",
    "  std::cout << \"total: \" << sum << '\\n';\n",
    "  return 0;\n",
    "}"
   ]
  },
  {
   "cell_type": "markdown",
   "metadata": {},
   "source": [
    "### Build and Run the baseline\n",
    "Select the cell below and click Run ▶ to compile and execute the code above:"
   ]
  },
  {
   "cell_type": "code",
   "execution_count": null,
   "metadata": {},
   "outputs": [],
   "source": [
    "! chmod 755 q; chmod 755 ./scripts/run_q-serial.sh; if [ -x \"$(command -v qsub)\" ]; then ./q scripts/run_q-serial.sh; else ./scripts/run_q-serial.sh; fi"
   ]
  },
  {
   "cell_type": "markdown",
   "metadata": {},
   "source": [
    "### Implement a parallel version with tbb::concurrent_priority_queue\n",
    "\n",
    "In this section, we modify the example to create one producer thread\n",
    "and two consumer threads that run concurrently. To eliminate the potential\n",
    "race on the call to `empty` and `pop`, we replace the `std::priority_queue` \n",
    "with `tbb::concurrent_priority_queue`. In fact, if you run the code below before\n",
    "making the required modifications, the output might include a segfault.\n",
    "\n",
    "The key interfaces in `tbb::concurrent_priority_queue` needed for this exercise \n",
    "are reproduced below:\n",
    "\n",
    "```cpp\n",
    "namespace tbb {\n",
    "  template <typename T, typename Compare = std::less<T>,\n",
    "            typename Allocator = cache_aligned_allocator<T>>\n",
    "  class concurrent_priority_queue {\n",
    "  public:\n",
    "    concurrent_priority_queue();\n",
    "    void push( const value_type& value );\n",
    "    bool try_pop( value_type& value );\n",
    "  };\n",
    "```\n",
    "\n",
    "You can find detailed documentation for ``concurrent_queue`` [here](https://spec.oneapi.com/versions/latest/elements/oneTBB/source/containers/concurrent_priority_queue_cls.html).\n",
    "\n",
    "For this exercise, complete the following steps:\n",
    "\n",
    "1. Inspect the code cell below and make the following modifications.\n",
    "  1. Replace the type `std::priority_queue` with `tbb::concurrent_priority_queue`.\n",
    "  2. Replace the invocation of `empty`, `top` and `pop` with a single call to `try_pop`.\n",
    "2. When the modifications are complete, click run ▶ to save the code to a file. \n",
    "3. Run ▶ the cell in the __Build and Run the modified code__ section below the code snippet to compile and execute the code in the saved file."
   ]
  },
  {
   "cell_type": "code",
   "execution_count": null,
   "metadata": {},
   "outputs": [],
   "source": [
    "%%writefile lab/q-parallel.cpp\n",
    "//==============================================================\n",
    "// Copyright (c) 2020 Intel Corporation\n",
    "//\n",
    "// SPDX-License-Identifier: Apache-2.0\n",
    "// =============================================================\n",
    "\n",
    "#include <iostream>\n",
    "#include <queue>\n",
    "#include <thread>\n",
    "#include <tbb/tbb.h>\n",
    "\n",
    "#define INCORRECT_QUEUE_TYPE std::priority_queue<int>;\n",
    "\n",
    "// STEP A: Replace std::priority_queue with tbb::concurrent_priority_queue\n",
    "using queue_type = INCORRECT_QUEUE_TYPE;\n",
    "        \n",
    "int consume(queue_type &myPQ) {\n",
    "  int local_sum = 0;\n",
    "  int value = -1;\n",
    "    \n",
    "  bool consuming = true;\n",
    "  while(consuming) {\n",
    "    // STEP B: replace the pattern of empty, top and pop \n",
    "    //         with a single call to myPQ.try_pop(value)\n",
    "    if (!myPQ.empty()) {\n",
    "      value = myPQ.top();\n",
    "      myPQ.pop();\n",
    "      if (value == -1)\n",
    "        consuming = false;\n",
    "      else\n",
    "        local_sum += value;\n",
    "    }\n",
    "  }\n",
    "  return local_sum;\n",
    "}\n",
    "\n",
    "int main() {\n",
    "  int sum (0);\n",
    "  int item;\n",
    "\n",
    "  queue_type myPQ;\n",
    " \n",
    "  std::thread producer([&]() {\n",
    "    for(int i=0; i<10001; i+=1) {\n",
    "      myPQ.push(i);\n",
    "    }\n",
    "    // to signal the end to the two consumers\n",
    "    myPQ.push(-1);\n",
    "    myPQ.push(-1);\n",
    "  });\n",
    "\n",
    "  int local_sum1 = 0, local_sum2 = 0;\n",
    "  std::thread consumer1([&]() { local_sum1 = consume(myPQ); });\n",
    "  std::thread consumer2([&]() { local_sum2 = consume(myPQ); });\n",
    "\n",
    "  producer.join();\n",
    "  consumer1.join();\n",
    "  consumer2.join();\n",
    "    \n",
    "  // prints \"total: 50005000\" (for 0,10001,1)\n",
    "  std::cout << \"total: \" << local_sum1 + local_sum2 << '\\n';\n",
    "  return 0;\n",
    "}"
   ]
  },
  {
   "cell_type": "markdown",
   "metadata": {},
   "source": [
    "### Build and Run the modified code\n",
    "\n",
    "Select the cell below and click Run ▶ to compile and execute the code that you modified above:"
   ]
  },
  {
   "cell_type": "code",
   "execution_count": null,
   "metadata": {},
   "outputs": [],
   "source": [
    "! chmod 755 q; chmod 755 ./scripts/run_q-parallel.sh; if [ -x \"$(command -v qsub)\" ]; then ./q scripts/run_q-parallel.sh; else ./scripts/run_q-parallel.sh; fi"
   ]
  },
  {
   "cell_type": "markdown",
   "metadata": {},
   "source": [
    "## Producer-Consumer Solution (Don't peak unless you have to)"
   ]
  },
  {
   "cell_type": "code",
   "execution_count": null,
   "metadata": {
    "jupyter": {
     "source_hidden": true
    }
   },
   "outputs": [],
   "source": [
    "%%writefile solutions/q-parallel.cpp\n",
    "//==============================================================\n",
    "// Copyright (c) 2020 Intel Corporation\n",
    "//\n",
    "// SPDX-License-Identifier: Apache-2.0\n",
    "// =============================================================\n",
    "\n",
    "#include <iostream>\n",
    "#include <queue>\n",
    "#include <thread>\n",
    "#include <tbb/tbb.h>\n",
    "\n",
    "// STEP A: Replace std::priority_queue with tbb::concurrent_priority_queue\n",
    "using queue_type = tbb::concurrent_priority_queue<int>;\n",
    "        \n",
    "int consume(queue_type &myPQ) {\n",
    "  int local_sum = 0;\n",
    "  int value = -1;\n",
    "    \n",
    "  bool consuming = true;\n",
    "  while(consuming) {\n",
    "    // STEP B: replace the pattern of empty, top and pop \n",
    "    //         with a single call to myPQ.try_pop(value)\n",
    "    if (myPQ.try_pop(value)) {\n",
    "      if (value == -1)\n",
    "        consuming = false;\n",
    "      else\n",
    "        local_sum += value;\n",
    "    }\n",
    "  }\n",
    "  return local_sum;\n",
    "}\n",
    "\n",
    "int main() {\n",
    "  int sum (0);\n",
    "  int item;\n",
    "\n",
    "  queue_type myPQ;\n",
    " \n",
    "  std::thread producer([&]() {\n",
    "    for(int i=0; i<10001; i+=1) {\n",
    "      myPQ.push(i);\n",
    "    }\n",
    "    // to signal the end to the two consumers\n",
    "    myPQ.push(-1);\n",
    "    myPQ.push(-1);\n",
    "  });\n",
    "\n",
    "  int local_sum1 = 0, local_sum2 = 0;\n",
    "  std::thread consumer1([&]() { local_sum1 = consume(myPQ); });\n",
    "  std::thread consumer2([&]() { local_sum2 = consume(myPQ); });\n",
    "\n",
    "  producer.join();\n",
    "  consumer1.join();\n",
    "  consumer2.join();\n",
    "    \n",
    "  // prints \"total: 50005000\" (for 0,10001,1)\n",
    "  std::cout << \"total: \" << local_sum1 + local_sum2 << '\\n';\n",
    "  return 0;\n",
    "}"
   ]
  },
  {
   "cell_type": "code",
   "execution_count": null,
   "metadata": {
    "jupyter": {
     "source_hidden": true
    }
   },
   "outputs": [],
   "source": [
    "! chmod 755 q; chmod 755 ./scripts/run_q-solution.sh; if [ -x \"$(command -v qsub)\" ]; then ./q scripts/run_q-solution.sh; else ./scripts/run_q-solution.sh; fi"
   ]
  }
 ],
 "metadata": {
  "kernelspec": {
   "display_name": "Python 3.7 (Intel® oneAPI)",
   "language": "python",
   "name": "c009-intel_distribution_of_python_3_oneapi-beta05-python"
  },
  "language_info": {
   "codemirror_mode": {
    "name": "ipython",
    "version": 3
   },
   "file_extension": ".py",
   "mimetype": "text/x-python",
   "name": "python",
   "nbconvert_exporter": "python",
   "pygments_lexer": "ipython3",
   "version": "3.7.7"
  }
 },
 "nbformat": 4,
 "nbformat_minor": 4
}
