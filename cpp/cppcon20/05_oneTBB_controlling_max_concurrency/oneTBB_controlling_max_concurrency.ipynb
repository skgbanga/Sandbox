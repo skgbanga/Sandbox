{
 "cells": [
  {
   "cell_type": "markdown",
   "metadata": {},
   "source": [
    "# oneTBB Controlling Maximum Concurrency"
   ]
  },
  {
   "cell_type": "markdown",
   "metadata": {},
   "source": [
    "##### Sections\n",
    "- [Controlling the maximum concurrency used by oneTBB](#Controlling-the-maximum-concurrency-used-by-oneTBB)\n",
    "- _Code_: [A simple scalability study](#A-simple-scalability-study)\n",
    "- _Code_: [Divide up resources with task_arena](#Divide-up-resources-with-task-arena)"
   ]
  },
  {
   "cell_type": "markdown",
   "metadata": {},
   "source": [
    "## Learning Objectives\n",
    "* Learn how ``tbb::global_control`` and ``tbb::task_arena`` work together to set the maximum available concurrency for computations\n",
    "\n",
    "# Controlling the number of threads used by oneTBB\n",
    "\n",
    "oneTBB has a global pool of worker threads and one or more task arenas. Together, the pool of worker threads \n",
    "and the task arenas are referred to as the TBB scheduler. If we do nothing special, the oneTBB library \n",
    "creates a thread pool with P-1 worker threads, where P is the number of hardware threads supported by the CPUs (`std::thread::hardware_concurrency()`). And, by default, all TBB tasks are shared in a single, implicit task \n",
    "arena that contains enough slots for the main thread and the P-1 worker threads.\n",
    "\n",
    "Typically, these defaults are the best configuration, providing good scalability while avoiding oversubscription. \n",
    "Whenever we execute a TBB algorithm, use a TBB flow graph or create tasks, all the work is scheduled on to this \n",
    "limited set of threads that are scheduled by the OS on to the CPU cores. \n",
    "\n",
    "However, there are scenarios that can benefit from changing these defaults.\n",
    "\n",
    "Some reasons we might change the number of threads used by a parallel computation include:\n",
    "\n",
    "* We know that our computations have limited scalability and that using more than a certain number of threads will just add scheduling overheads.\n",
    "* Our tasks consume a lot of resources when executing, and so we need to limit the number of tasks that execute concurrently.\n",
    "* We want to leave room on our platform for other work, and so we want to limit the number of cores used concurrently by a particular computation.\n",
    "\n",
    "Threading Building Blocks provides two classes that can be used to limit the maximum concurrency \n",
    "used by parallel computations: ``tbb::global_control`` and ``tbb::task_arena``.  Each serves a different \n",
    "purpose but together they determine the maximum number of threads our parallel computations can use\n",
    "concurrently.\n",
    "\n",
    "In this module, we work through a few exercises to better understand how to use `tbb::global_control` \n",
    "and `tbb::task_arena` objects.\n",
    "\n",
    "## A simple scalability study\n",
    "\n",
    "In our first set of exercises, we will run a very simple parallel loop that executes its loop body 1 million times, spinning in each invocation of the body for about 1 microsecond. The sum of the times for all the iterations therefore equals about 1 second. We will make a series of modifications to this example to better understand the impact of `tbb::global_control` and `tbb::task_arena` objects.\n",
    "\n",
    "### The default case\n",
    "\n",
    "If we do nothing special, oneTBB creates P-1 workers and executes tasks in an implicit task area with P slots. In this section, we build and execute a base case that uses these defaults. Our test will track the number of unique threads that participate in the computation and print out the execution time and the number of threads that participated. When we run the base case, we should expect to see that the number of threads used in the computation are equal to `std::thread::hardware_concurrency()` and that the time to execute the parallel loop is roughly 1 second / P. We shouldn't expect the time to be exactly\n",
    "1/P since there is overhead in parallel scheduling and because the spin loop in our test loop is not precise -- in fact it executes for *at least* 1 microsecond \n",
    "not *exactly* 1 microsecond, so we should expect the time to be bigger than 1/P, but not a lot bigger.  You can see the details of the\n",
    "function `run_test` in common/test_function.h.\n",
    "\n",
    "Inspect the code below - there are no modifications necessary. Run the first cell to create the file, then run the cell below it to compile and execute the code.\n",
    "1. Inspect the code cell below, then click run ▶ to save the code to a file\n",
    "2. Run ▶ the cell in the __Build and Run__ section below the code snippet to compile and execute the code in the saved file"
   ]
  },
  {
   "cell_type": "code",
   "execution_count": null,
   "metadata": {},
   "outputs": [],
   "source": [
    "%%writefile lab/scalability-no-controls.cpp\n",
    "//==============================================================\n",
    "// Copyright (c) 2020 Intel Corporation\n",
    "//\n",
    "// SPDX-License-Identifier: Apache-2.0\n",
    "// =============================================================\n",
    "\n",
    "#include <chrono>\n",
    "#include <iostream>\n",
    "#include <tbb/tbb.h>\n",
    "\n",
    "#include \"../common/test_function.h\"\n",
    "\n",
    "int main() {\n",
    "  const int hw_threads = std::thread::hardware_concurrency();\n",
    "  run_test(); // warm-up run\n",
    "  auto t0 = std::chrono::high_resolution_clock::now();\n",
    "  auto num_participating_threads = run_test(); // test run\n",
    "  auto sec = 1e-9*(std::chrono::high_resolution_clock::now() - t0).count();\n",
    "  std::cout << \"Ran test with on hw with \" << hw_threads << \" threads using \"\n",
    "            << num_participating_threads << \" threads. Time == \" << sec << \" seconds.\" << std::endl\n",
    "            << \"1/\" << hw_threads << \" == \" << 1.0/hw_threads << std::endl;\n",
    "}"
   ]
  },
  {
   "cell_type": "markdown",
   "metadata": {},
   "source": [
    "### Build and Run\n",
    "Select the cell below and click Run ▶ to compile and execute the code above:"
   ]
  },
  {
   "cell_type": "code",
   "execution_count": null,
   "metadata": {},
   "outputs": [],
   "source": [
    "! chmod 755 q; chmod 755 ./scripts/run_scalability-no.sh; if [ -x \"$(command -v qsub)\" ]; then ./q scripts/run_scalability-no.sh; else ./scripts/run_scalability-no.sh; fi"
   ]
  },
  {
   "cell_type": "markdown",
   "metadata": {},
   "source": [
    "### tbb::global_control and tbb::task_arena\n",
    "\n",
    "The class `tbb::global_control` is used to change the setting of global control variables used by the oneTBB library. \n",
    "You can find detailed documentation about the `global_control` class [here](https://spec.oneapi.com/versions/latest/elements/oneTBB/source/task_scheduler/scheduling_controls/global_control_cls.html).\n",
    "\n",
    "```cpp\n",
    "// Defined in header <tbb/global_control.h>\n",
    "namespace tbb {\n",
    "  class global_control {\n",
    "  public:\n",
    "    enum parameter {\n",
    "      max_allowed_parallelism,\n",
    "      thread_stack_size\n",
    "    };\n",
    "\n",
    "    global_control(parameter p, size_t value);\n",
    "    ~global_control();\n",
    "\n",
    "    static size_t active_value(parameter param);\n",
    "  };\n",
    "} // namespace tbb\n",
    "```\n",
    "\n",
    "In this module, we focus on using `global_control` to set `max_allowed_parallelism`, which controls the maximum number of \n",
    "threads in a process that can concurrently execute TBB tasks. Control variables can be created in different threads, and may \n",
    "have nested or overlapping scopes. However, at any point in time each controlled parameter has a single active \n",
    "value that applies to the whole process. This value is selected from all currently existing control variables by \n",
    "applying a parameter-specific selection rule. For `max_allowed_parallelism` the rule is that the selected value is the \n",
    "minimum of the `max_allowed_parallelism` values.\n",
    "\n",
    "Using the minimum value makes a lot of sense. In the common case, we want TBB to use as many threads as it has available to \n",
    "execute our parallel work. It is only in exceptional cases that a developer chooses to restrict `max_allowed_parallelism`.\n",
    "As we noted above this might be because the developer knows that the parallelism won't scale beyond a certain point or that the \n",
    "number of concurrent tasks must be limited to avoid using too many resources (such as memory). So, if there are conflicting\n",
    "requests on how much the parallelism must be limited, to be safe, TBB conservatively chooses the most restrictive request.\n",
    "\n",
    "The class `tbb::task_arena` represents a place where threads may share and execute tasks. You can find detailed documentation\n",
    "about the `task_arena` class [here](https://spec.oneapi.com/versions/latest/elements/oneTBB/source/task_scheduler/task_arena/task_arena_cls.html). \n",
    "The number of threads that may simultaneously execute tasks in a `task_arena` is limited by its concurrency limit. Each user \n",
    "thread that invokes any parallel construct outside an explicit task_arena uses an implicit task arena representation object\n",
    "associated with the calling thread. The tasks spawned or enqueued into one arena cannot be executed in another arena.\n",
    "The interfaces needed for the exercises in this module are shown below.\n",
    "\n",
    "```cpp\n",
    "// Defined in header <tbb/task_arena.h>\n",
    "\n",
    "namespace tbb {\n",
    "    class task_arena {\n",
    "    public:\n",
    "        task_arena(int max_concurrency = automatic, unsigned reserved_for_masters = 1);\n",
    "        int max_concurrency() const;\n",
    "        template<typename F> auto execute(F&& f) -> decltype(f());\n",
    "        template<typename F> void enqueue(F&& f);\n",
    "    };\n",
    "} // namespace tbb\n",
    "```\n",
    "\n",
    "The classes `global_control` and `task_arena` work together. The number of TBB worker threads participating in \n",
    "executing tasks in a specific task arena will not exceed that task arena's concurrency limit and the number of \n",
    "threads participating in work across all task arenas will not exceed `max_allowed_parallelism`.\n",
    "\n",
    "### Use tbb::global_control to do a scalability study\n",
    "\n",
    "To demonstrate the effects of `global_control`, let's change our earlier example to execute the test function\n",
    "after setting `max_allowed_parallelism` to values 1 to `2*std::thread::hardware_concurrency()`. We will *not*\n",
    "introduce an explicit `task_arena` in this exercise.  As a result our test will use the default task arena, which\n",
    "has a concurrency limit of `std::thread::hardware_concurrency()`.  We should therefore expect that our test will\n",
    "be restricted when we set `max_allowed_parallelism` to values below `std::thread::hardware_concurrency()`. \n",
    "However, when we set `max_allowed_parallelism` to values larger than  `std::thread::hardware_concurrency()`,\n",
    "our test will still be limited to at most `std::thread::hardware_concurrency()` due to the limits on the task\n",
    "arena.\n",
    "\n",
    "For this exercise, complete the following steps:\n",
    "1. Inspect the code cell below and make the following modifications.\n",
    "  1. Change the value passed to the global control object from INCORRECT_VALUE to `i`.\n",
    "2. When the modifications are complete, click run ▶ to save the code to a file.\n",
    "3. Run ▶ the cell in the __Build and Run__ section below the code snippet to compile and execute the code in the saved file"
   ]
  },
  {
   "cell_type": "code",
   "execution_count": null,
   "metadata": {},
   "outputs": [],
   "source": [
    "%%writefile lab/scalability-gc.cpp\n",
    "//==============================================================\n",
    "// Copyright (c) 2020 Intel Corporation\n",
    "//\n",
    "// SPDX-License-Identifier: Apache-2.0\n",
    "// =============================================================\n",
    "\n",
    "#include <chrono>\n",
    "#include <iostream>\n",
    "#include <tbb/tbb.h>\n",
    "\n",
    "#include \"../common/test_function.h\"\n",
    "\n",
    "#define INCORRECT_VALUE hw_threads\n",
    "\n",
    "int main() {\n",
    "  const int hw_threads = std::thread::hardware_concurrency();\n",
    "  for (int i = 1; i <= 2*hw_threads; ++i) {\n",
    "    // STEP A: Change the global_control object to allow at most i concurrent threads\n",
    "    tbb::global_control gc(tbb::global_control::max_allowed_parallelism, INCORRECT_VALUE);\n",
    "    run_test(); // warm-up run\n",
    "    auto t0 = std::chrono::high_resolution_clock::now();\n",
    "    auto num_participating_threads = run_test(); // test run\n",
    "    auto sec = 1e-9*(std::chrono::high_resolution_clock::now() - t0).count();\n",
    "    std::cout << \"Ran test with on hw with \" << hw_threads << \" threads using \"\n",
    "              << num_participating_threads << \" threads. Time == \" << sec << \" seconds.\" << std::endl\n",
    "              << \"1/\" << hw_threads << \" == \" << 1.0/hw_threads << std::endl;\n",
    "  }\n",
    "}"
   ]
  },
  {
   "cell_type": "markdown",
   "metadata": {},
   "source": [
    "### Build and Run\n",
    "Select the cell below and click Run ▶ to compile and execute the code above:"
   ]
  },
  {
   "cell_type": "code",
   "execution_count": null,
   "metadata": {},
   "outputs": [],
   "source": [
    "! chmod 755 q; chmod 755 ./scripts/run_scalability-gc.sh; if [ -x \"$(command -v qsub)\" ]; then ./q scripts/run_scalability-gc.sh; else ./scripts/run_scalability-gc.sh; fi"
   ]
  },
  {
   "cell_type": "markdown",
   "metadata": {},
   "source": [
    "### global_control scalability solution (Don't peak unless you have to)"
   ]
  },
  {
   "cell_type": "code",
   "execution_count": null,
   "metadata": {
    "jupyter": {
     "source_hidden": true
    }
   },
   "outputs": [],
   "source": [
    "%%writefile solutions/scalability-gc-solved.cpp\n",
    "//==============================================================\n",
    "// Copyright (c) 2020 Intel Corporation\n",
    "//\n",
    "// SPDX-License-Identifier: Apache-2.0\n",
    "// =============================================================\n",
    "\n",
    "#include <chrono>\n",
    "#include <iostream>\n",
    "#include <tbb/tbb.h>\n",
    "\n",
    "#include \"../common/test_function.h\"\n",
    "\n",
    "#define INCORRECT_VALUE hw_threads\n",
    "\n",
    "int main() {\n",
    "  const int hw_threads = std::thread::hardware_concurrency();\n",
    "  for (int i = 1; i <= 2*hw_threads; ++i) {\n",
    "    // STEP A: Use i instead of INCORRECT_VALUE to vary the value from 1 to 2*hw_threads\n",
    "    tbb::global_control gc(tbb::global_control::max_allowed_parallelism, i);\n",
    "    run_test(); // warm-up run\n",
    "    auto t0 = std::chrono::high_resolution_clock::now();\n",
    "    auto num_participating_threads = run_test(); // test run\n",
    "    auto sec = 1e-9*(std::chrono::high_resolution_clock::now() - t0).count();\n",
    "    std::cout << \"Ran test with on hw with \" << hw_threads << \" threads using \"\n",
    "              << num_participating_threads << \" threads. Time == \" << sec << \" seconds.\" << std::endl\n",
    "              << \"1/\" << hw_threads << \" == \" << 1.0/hw_threads << std::endl;\n",
    "  }\n",
    "}"
   ]
  },
  {
   "cell_type": "code",
   "execution_count": null,
   "metadata": {
    "jupyter": {
     "source_hidden": true
    }
   },
   "outputs": [],
   "source": [
    "! chmod 755 q; chmod 755 ./scripts/run_scalability-gc-solved.sh; if [ -x \"$(command -v qsub)\" ]; then ./q scripts/run_scalability-gc-solved.sh; else ./scripts/run_scalability-gc-solved.sh; fi"
   ]
  },
  {
   "cell_type": "markdown",
   "metadata": {},
   "source": [
    "### Use an explicit tbb::task_arena to do a scalability study\n",
    "\n",
    "To demonstrate the effects of `task_arena`, let's change our example to now execute the test function\n",
    "using explicit task_arena objects, varying the concurrency limit for the task arenas from\n",
    "1 to `2*std::thread::hardware_concurrency()`. We will *not* use `global_control` to change\n",
    "the default for `max_allowed_parallelism`.  The default is `std::thread::hardware_concurrency()`.\n",
    "Just like in our previous exercise, we should therefore expect that our test will\n",
    "be restricted when we set use a `task_arena` with a concurrency limit below \n",
    "`std::thread::hardware_concurrency()`. However, when using values larger than \n",
    "`std::thread::hardware_concurrency()`, our test will still be limited to at most \n",
    "`std::thread::hardware_concurrency()` due to the default `max_allowed_concurrency` value.\n",
    "\n",
    "For this exercise, complete the following steps:\n",
    "1. Inspect the code cell below and make the following modifications.\n",
    "  1. Change the value passed to the task_arena object from INCORRECT_VALUE to `i`.\n",
    "2. When the modifications are complete, click run ▶ to save the code to a file.\n",
    "3. Run ▶ the cell in the __Build and Run__ section below the code snippet to compile and execute the code in the saved file"
   ]
  },
  {
   "cell_type": "code",
   "execution_count": null,
   "metadata": {},
   "outputs": [],
   "source": [
    "%%writefile lab/scalability-ta.cpp\n",
    "//==============================================================\n",
    "// Copyright (c) 2020 Intel Corporation\n",
    "//\n",
    "// SPDX-License-Identifier: Apache-2.0\n",
    "// =============================================================\n",
    "\n",
    "#include <chrono>\n",
    "#include <iostream>\n",
    "#include <tbb/tbb.h>\n",
    "\n",
    "#include \"../common/test_function.h\"\n",
    "\n",
    "#define INCORRECT_VALUE hw_threads\n",
    "\n",
    "int main() {\n",
    "  const int hw_threads = std::thread::hardware_concurrency();\n",
    "  for (int i = 1; i <= 2*hw_threads; ++i) {\n",
    "    // STEP A: Change the task_arena to use at most i threads\n",
    "    tbb::task_arena ta(INCORRECT_VALUE);\n",
    "    ta.execute([]() {\n",
    "      run_test(); // warm-up run\n",
    "    });\n",
    "    ta.execute([hw_threads]() {\n",
    "      auto t0 = std::chrono::high_resolution_clock::now();\n",
    "      auto num_participating_threads = run_test(); // test run\n",
    "      auto sec = 1e-9*(std::chrono::high_resolution_clock::now() - t0).count();\n",
    "      std::cout << \"Ran test with on hw with \" << hw_threads << \" threads using \"\n",
    "                << num_participating_threads << \" threads. Time == \" << sec << \" seconds.\" << std::endl\n",
    "                << \"1/\" << hw_threads << \" == \" << 1.0/hw_threads << std::endl;\n",
    "    });\n",
    "  }\n",
    "}"
   ]
  },
  {
   "cell_type": "markdown",
   "metadata": {},
   "source": [
    "### Build and Run\n",
    "Select the cell below and click Run ▶ to compile and execute the code above:"
   ]
  },
  {
   "cell_type": "code",
   "execution_count": null,
   "metadata": {},
   "outputs": [],
   "source": [
    "! chmod 755 q; chmod 755 ./scripts/run_scalability-ta.sh; if [ -x \"$(command -v qsub)\" ]; then ./q scripts/run_scalability-ta.sh; else ./scripts/run_scalability-ta.sh; fi"
   ]
  },
  {
   "cell_type": "markdown",
   "metadata": {},
   "source": [
    "### task_arena scalability solution (Don't peak unless you have to)"
   ]
  },
  {
   "cell_type": "code",
   "execution_count": null,
   "metadata": {
    "jupyter": {
     "source_hidden": true
    }
   },
   "outputs": [],
   "source": [
    "%%writefile solutions/scalability-ta-solved.cpp\n",
    "//==============================================================\n",
    "// Copyright (c) 2020 Intel Corporation\n",
    "//\n",
    "// SPDX-License-Identifier: Apache-2.0\n",
    "// =============================================================\n",
    "\n",
    "#include <chrono>\n",
    "#include <iostream>\n",
    "#include <tbb/tbb.h>\n",
    "\n",
    "#include \"../common/test_function.h\"\n",
    "\n",
    "#define INCORRECT_VALUE hw_threads\n",
    "\n",
    "int main() {\n",
    "  const int hw_threads = std::thread::hardware_concurrency();\n",
    "  for (int i = 1; i <= 2*hw_threads; ++i) {\n",
    "    // STEP A: Change the task_arena to use at most i threads\n",
    "    tbb::task_arena ta(i);\n",
    "    ta.execute([]() {\n",
    "      run_test(); // warm-up run\n",
    "    });\n",
    "    ta.execute([hw_threads]() {\n",
    "      auto t0 = std::chrono::high_resolution_clock::now();\n",
    "      auto num_participating_threads = run_test(); // test run\n",
    "      auto sec = 1e-9*(std::chrono::high_resolution_clock::now() - t0).count();\n",
    "      std::cout << \"Ran test with on hw with \" << hw_threads << \" threads using \"\n",
    "                << num_participating_threads << \" threads. Time == \" << sec << \" seconds.\" << std::endl\n",
    "                << \"1/\" << hw_threads << \" == \" << 1.0/hw_threads << std::endl;\n",
    "    });\n",
    "  }\n",
    "}"
   ]
  },
  {
   "cell_type": "code",
   "execution_count": null,
   "metadata": {
    "jupyter": {
     "source_hidden": true
    }
   },
   "outputs": [],
   "source": [
    "! chmod 755 q; chmod 755 ./scripts/run_scalability-ta-solved.sh; if [ -x \"$(command -v qsub)\" ]; then ./q scripts/run_scalability-ta-solved.sh; else ./scripts/run_scalability-ta-solved.sh; fi"
   ]
  },
  {
   "cell_type": "markdown",
   "metadata": {},
   "source": [
    "### Combining tbb::global_control and tbb::task_arena to do a scalability study\n",
    "\n",
    "From the previous two exercises, we can see that the oneTBB library is biased towards\n",
    "preventing oversubscription of cores. If we just set the concurrency limit on an \n",
    "explicit task_arena or just use a global_contol object to set `max_allowed_parallelism`,\n",
    "the oneTBB library restricts our parallel computation to at most \n",
    "`std::thread::hardware_concurrency()` threads.\n",
    "\n",
    "If we really want to use more than `std::thread::hardware_concurrency()` threads, we\n",
    "need to use both `tbb::global_control` and `tbb::task_arena`. First we must increase\n",
    "the total number of available threads by setting `max_allowed_parallelism` to a value\n",
    "larger than `std::thread::hardware_concurrency()` and then execute our computation in a \n",
    "`task_arena` with a concurrency limit greater than `std::thread::hardware_concurrency()`.\n",
    "\n",
    "For this exercise, complete the following steps:\n",
    "1. Inspect the code cell below and make the following modifications.\n",
    "  1. Change the value passed to the global control object from INCORRECT_VALUE to `2*std::thread::hardware_concurrency()`.\n",
    "  2. Change the value passed to the task_arena object from INCORRECT_VALUE to `i`.\n",
    "2. When the modifications are complete, click run ▶ to save the code to a file.\n",
    "3. Run ▶ the cell in the __Build and Run__ section below the code snippet to compile and execute the code in the saved file"
   ]
  },
  {
   "cell_type": "code",
   "execution_count": null,
   "metadata": {},
   "outputs": [],
   "source": [
    "%%writefile lab/scalability-gc-ta.cpp\n",
    "//==============================================================\n",
    "// Copyright (c) 2020 Intel Corporation\n",
    "//\n",
    "// SPDX-License-Identifier: Apache-2.0\n",
    "// =============================================================\n",
    "\n",
    "#include <chrono>\n",
    "#include <iostream>\n",
    "#include <tbb/tbb.h>\n",
    "\n",
    "#include \"../common/test_function.h\"\n",
    "\n",
    "#define INCORRECT_VALUE hw_threads\n",
    "\n",
    "int main() {\n",
    "  const int hw_threads = std::thread::hardware_concurrency();\n",
    "  // STEP A: Set the max_allowed_parallelism to 2*hw_threads\n",
    "  tbb::global_control gc(tbb::global_control::max_allowed_parallelism, INCORRECT_VALUE);\n",
    "\n",
    "  for (int i = 1; i <= 2*hw_threads; ++i) {\n",
    "    // STEP B: Set the limit on the concurrency for the task_arena to i\n",
    "    tbb::task_arena ta(INCORRECT_VALUE);\n",
    "    ta.execute([]() {\n",
    "      run_test(); // warm-up run\n",
    "    });\n",
    "    ta.execute([hw_threads]() {\n",
    "      auto t0 = std::chrono::high_resolution_clock::now();\n",
    "      auto num_participating_threads = run_test(); // test run\n",
    "      auto sec = 1e-9*(std::chrono::high_resolution_clock::now() - t0).count();\n",
    "      std::cout << \"Ran test with on hw with \" << hw_threads << \" threads using \"\n",
    "                << num_participating_threads << \" threads. Time == \" << sec << \" seconds.\" << std::endl\n",
    "                << \"1/\" << hw_threads << \" == \" << 1.0/hw_threads << std::endl;\n",
    "    });\n",
    "  }\n",
    "}"
   ]
  },
  {
   "cell_type": "markdown",
   "metadata": {},
   "source": [
    "### Build and Run\n",
    "Select the cell below and click Run ▶ to compile and execute the code above:"
   ]
  },
  {
   "cell_type": "code",
   "execution_count": null,
   "metadata": {},
   "outputs": [],
   "source": [
    "! chmod 755 q; chmod 755 ./scripts/run_scalability-gc-ta.sh; if [ -x \"$(command -v qsub)\" ]; then ./q scripts/run_scalability-gc-ta.sh; else ./scripts/run_scalability-gc-ta.sh; fi"
   ]
  },
  {
   "cell_type": "markdown",
   "metadata": {},
   "source": [
    "### global_control plus task_arena scalability solution (Don't peak unless you have to)"
   ]
  },
  {
   "cell_type": "code",
   "execution_count": null,
   "metadata": {
    "jupyter": {
     "source_hidden": true
    }
   },
   "outputs": [],
   "source": [
    "%%writefile solutions/scalability-gc-ta-solved.cpp\n",
    "//==============================================================\n",
    "// Copyright (c) 2020 Intel Corporation\n",
    "//\n",
    "// SPDX-License-Identifier: Apache-2.0\n",
    "// =============================================================\n",
    "\n",
    "#include <chrono>\n",
    "#include <iostream>\n",
    "#include <tbb/tbb.h>\n",
    "\n",
    "#include \"../common/test_function.h\"\n",
    "\n",
    "#define INCORRECT_VALUE hw_threads\n",
    "\n",
    "int main() {\n",
    "  const int hw_threads = std::thread::hardware_concurrency();\n",
    "  // STEP A: Set the max_allowed_parallelism to 2*hw_threads\n",
    "  tbb::global_control gc(tbb::global_control::max_allowed_parallelism, 2*hw_threads);\n",
    "\n",
    "  for (int i = 1; i <= 2*hw_threads; ++i) {\n",
    "    // STEP B: Set the limit on the concurrency for the task_arena to i\n",
    "    tbb::task_arena ta(i);\n",
    "    ta.execute([]() {\n",
    "      run_test(); // warm-up run\n",
    "    });\n",
    "    ta.execute([hw_threads]() {\n",
    "      auto t0 = std::chrono::high_resolution_clock::now();\n",
    "      auto num_participating_threads = run_test(); // test run\n",
    "      auto sec = 1e-9*(std::chrono::high_resolution_clock::now() - t0).count();\n",
    "      std::cout << \"Ran test with on hw with \" << hw_threads << \" threads using \"\n",
    "                << num_participating_threads << \" threads. Time == \" << sec << \" seconds.\" << std::endl\n",
    "                << \"1/\" << hw_threads << \" == \" << 1.0/hw_threads << std::endl;\n",
    "    });\n",
    "  }\n",
    "}"
   ]
  },
  {
   "cell_type": "code",
   "execution_count": null,
   "metadata": {
    "jupyter": {
     "source_hidden": true
    }
   },
   "outputs": [],
   "source": [
    "! chmod 755 q; chmod 755 ./scripts/run_scalability-gc-ta-solved.sh; if [ -x \"$(command -v qsub)\" ]; then ./q scripts/run_scalability-gc-ta-solved.sh; else ./scripts/run_scalability-gc-ta-solved.sh; fi"
   ]
  },
  {
   "cell_type": "markdown",
   "metadata": {},
   "source": [
    "## Dividing up resources with more than one task_arena\n",
    "\n",
    "A `tbb::task_arena` represents a place where threads may share and execute tasks and we can have more than one\n",
    "`task_arena` active at a time. When there is more than one `task_arena`, including implicit and explicit arenas,\n",
    "the available threads are divided up among them, generally in proportion to the concurrency limits\n",
    "of the `task_arena` objects.  Using this behavior, we can divide up our threads as we see fit. For example, we\n",
    "could create one `task_arena` object that has a concurrency limit of two threads and another one that has a limit\n",
    "of P-2 threads.\n",
    "\n",
    "Let's start by executing code that uses two explicit task_arena objects, but uses the default concurrency limit \n",
    "for each (which is `std::thread::hardware_concurrency()`).  We will invoke `run_test` in one arena and `run_test_2`\n",
    "in the other. Both of these functions do the same thing but use different static variables for tracking the number\n",
    "of threads that participate. We should expect that `run_test` and `run_test_1` complete in roughly the same amount \n",
    "of time.\n",
    "\n",
    "Inspect the code below - there are no modifications necessary. Run the first cell to create the file, then run the cell below it to compile and execute the code.\n",
    "1. Inspect the code cell below, then click run ▶ to save the code to a file\n",
    "2. Run ▶ the cell in the __Build and Run__ section below the code snippet to compile and execute the code in the saved file"
   ]
  },
  {
   "cell_type": "code",
   "execution_count": null,
   "metadata": {},
   "outputs": [],
   "source": [
    "%%writefile lab/split-default.cpp\n",
    "//==============================================================\n",
    "// Copyright (c) 2020 Intel Corporation\n",
    "//\n",
    "// SPDX-License-Identifier: Apache-2.0\n",
    "// =============================================================\n",
    "\n",
    "#include <chrono>\n",
    "#include <iostream>\n",
    "#include <tbb/tbb.h>\n",
    "\n",
    "#include \"../common/test_function.h\"\n",
    "\n",
    "#define INCORRECT_VALUE hw_threads\n",
    "\n",
    "int main() {\n",
    "  const int hw_threads = std::thread::hardware_concurrency();\n",
    "  tbb::task_arena ta1;\n",
    "  tbb::task_arena ta2;\n",
    "\n",
    "  // warm-up\n",
    "  tbb::parallel_invoke(\n",
    "    [&]() { ta1.execute([]() { run_test(); }); },\n",
    "    [&]() { ta2.execute([]() { run_test_2(); }); }\n",
    "  );\n",
    "    \n",
    "  // run test\n",
    "  int num_threads_1, num_threads_2;\n",
    "  double time_of_1, time_of_2;\n",
    "  tbb::parallel_invoke(\n",
    "    [&]() { \n",
    "      ta1.execute([&]() {\n",
    "        auto t0 = std::chrono::high_resolution_clock::now();\n",
    "        num_threads_1 = run_test();\n",
    "        time_of_1 = 1e-9*(std::chrono::high_resolution_clock::now() - t0).count();\n",
    "      }); \n",
    "    },\n",
    "    [&]() { \n",
    "      ta2.execute([&]() {\n",
    "        auto t0 = std::chrono::high_resolution_clock::now();\n",
    "        num_threads_2 = run_test_2(); \n",
    "        time_of_2 = 1e-9*(std::chrono::high_resolution_clock::now() - t0).count();          \n",
    "      }); \n",
    "    }\n",
    "  );\n",
    "    \n",
    "  std::cout << \"Ran test with on hw with \" << hw_threads << \" threads\\n\"\n",
    "            << \" test_1 ran using \" << num_threads_1 << \" threads in \" << time_of_1 << \" seconds.\\n\"\n",
    "            << \" test_2 ran using \" << num_threads_2 << \" threads in \" << time_of_2 << \" seconds.\\n\";\n",
    "}"
   ]
  },
  {
   "cell_type": "markdown",
   "metadata": {},
   "source": [
    "### Build and Run\n",
    "Select the cell below and click Run ▶ to compile and execute the code above:"
   ]
  },
  {
   "cell_type": "code",
   "execution_count": null,
   "metadata": {},
   "outputs": [],
   "source": [
    "! chmod 755 q; chmod 755 ./scripts/run_split-default.sh; if [ -x \"$(command -v qsub)\" ]; then ./q scripts/run_split-default.sh; else ./scripts/run_split-default.sh; fi"
   ]
  },
  {
   "cell_type": "markdown",
   "metadata": {},
   "source": [
    "Surprisingly, you might see that more threads participated in one arena than the other, but \n",
    "that the total executions times are similar. If so, this is because we did not set any \n",
    "concurrency limit for either `task_arena` object.  If the work was completed in one arena \n",
    "before the other, the threads that were in the arena that finished first can migrate to \n",
    "the other arena to help finish the remaining work. This is typically the behavior we want.\n",
    "Why not let idle threads help out with remaining work?"
   ]
  },
  {
   "cell_type": "markdown",
   "metadata": {},
   "source": [
    "### Splitting the threads up evenly\n",
    "\n",
    "But, let's say we want to prevent the idle threads from helping out when they finish the work in their arena.\n",
    "We could set the concurrency limit in each arena to P/2.\n",
    "\n",
    "For this exercise, complete the following steps:\n",
    "1. Inspect the code cell below and make the following modifications.\n",
    "  1. Change the value passed to each task_arena object from INCORRECT_VALUE to `hw_threads/2`.\n",
    "2. When the modifications are complete, click run ▶ to save the code to a file.\n",
    "3. Run ▶ the cell in the __Build and Run__ section below the code snippet to compile and execute the code in the saved file"
   ]
  },
  {
   "cell_type": "code",
   "execution_count": null,
   "metadata": {},
   "outputs": [],
   "source": [
    "%%writefile lab/split-evenly.cpp\n",
    "//==============================================================\n",
    "// Copyright (c) 2020 Intel Corporation\n",
    "//\n",
    "// SPDX-License-Identifier: Apache-2.0\n",
    "// =============================================================\n",
    "\n",
    "#include <chrono>\n",
    "#include <iostream>\n",
    "#include <tbb/tbb.h>\n",
    "\n",
    "#include \"../common/test_function.h\"\n",
    "\n",
    "#define INCORRECT_VALUE hw_threads\n",
    "\n",
    "int main() {\n",
    "  const int hw_threads = std::thread::hardware_concurrency();\n",
    "  // STEP A: pass hw_threads/2 to the constructor of each arena\n",
    "  tbb::task_arena ta1(INCORRECT_VALUE);\n",
    "  tbb::task_arena ta2(INCORRECT_VALUE);\n",
    "\n",
    "  // warm-up\n",
    "  tbb::parallel_invoke(\n",
    "    [&]() { ta1.execute([]() { run_test(); }); },\n",
    "    [&]() { ta2.execute([]() { run_test_2(); }); }\n",
    "  );\n",
    "    \n",
    "  // run test\n",
    "  int num_threads_1, num_threads_2;\n",
    "  double time_of_1, time_of_2;\n",
    "  tbb::parallel_invoke(\n",
    "    [&]() { \n",
    "      ta1.execute([&]() {\n",
    "        auto t0 = std::chrono::high_resolution_clock::now();\n",
    "        num_threads_1 = run_test();\n",
    "        time_of_1 = 1e-9*(std::chrono::high_resolution_clock::now() - t0).count();\n",
    "      }); \n",
    "    },\n",
    "    [&]() { \n",
    "      ta2.execute([&]() {\n",
    "        auto t0 = std::chrono::high_resolution_clock::now();\n",
    "        num_threads_2 = run_test_2(); \n",
    "        time_of_2 = 1e-9*(std::chrono::high_resolution_clock::now() - t0).count();          \n",
    "      }); \n",
    "    }\n",
    "  );\n",
    "    \n",
    "  std::cout << \"Ran test with on hw with \" << hw_threads << \" threads\\n\"\n",
    "            << \" test_1 ran using \" << num_threads_1 << \" threads in \" << time_of_1 << \" seconds.\\n\"\n",
    "            << \" test_2 ran using \" << num_threads_2 << \" threads in \" << time_of_2 << \" seconds.\\n\";\n",
    "}"
   ]
  },
  {
   "cell_type": "markdown",
   "metadata": {},
   "source": [
    "### Build and Run\n",
    "Select the cell below and click Run ▶ to compile and execute the code above:"
   ]
  },
  {
   "cell_type": "code",
   "execution_count": null,
   "metadata": {},
   "outputs": [],
   "source": [
    "! chmod 755 q; chmod 755 ./scripts/run_split-evenly.sh; if [ -x \"$(command -v qsub)\" ]; then ./q scripts/run_split-evenly.sh; else ./scripts/run_split-evenly.sh; fi"
   ]
  },
  {
   "cell_type": "markdown",
   "metadata": {},
   "source": [
    "### split-evenly solution (Don't peak unless you have to)"
   ]
  },
  {
   "cell_type": "code",
   "execution_count": null,
   "metadata": {
    "jupyter": {
     "source_hidden": true
    }
   },
   "outputs": [],
   "source": [
    "%%writefile solutions/split-evenly-solved.cpp\n",
    "//==============================================================\n",
    "// Copyright (c) 2020 Intel Corporation\n",
    "//\n",
    "// SPDX-License-Identifier: Apache-2.0\n",
    "// =============================================================\n",
    "\n",
    "#include <chrono>\n",
    "#include <iostream>\n",
    "#include <tbb/tbb.h>\n",
    "\n",
    "#include \"../common/test_function.h\"\n",
    "\n",
    "#define INCORRECT_VALUE hw_threads\n",
    "\n",
    "int main() {\n",
    "  const int hw_threads = std::thread::hardware_concurrency();\n",
    "  // STEP A: pass hw_threads/2 to the constructor of each arena\n",
    "  tbb::task_arena ta1(hw_threads/2);\n",
    "  tbb::task_arena ta2(hw_threads/2);\n",
    "\n",
    "  // warm-up\n",
    "  tbb::parallel_invoke(\n",
    "    [&]() { ta1.execute([]() { run_test(); }); },\n",
    "    [&]() { ta2.execute([]() { run_test_2(); }); }\n",
    "  );\n",
    "    \n",
    "  // run test\n",
    "  int num_threads_1, num_threads_2;\n",
    "  double time_of_1, time_of_2;\n",
    "  tbb::parallel_invoke(\n",
    "    [&]() { \n",
    "      ta1.execute([&]() {\n",
    "        auto t0 = std::chrono::high_resolution_clock::now();\n",
    "        num_threads_1 = run_test();\n",
    "        time_of_1 = 1e-9*(std::chrono::high_resolution_clock::now() - t0).count();\n",
    "      }); \n",
    "    },\n",
    "    [&]() { \n",
    "      ta2.execute([&]() {\n",
    "        auto t0 = std::chrono::high_resolution_clock::now();\n",
    "        num_threads_2 = run_test_2(); \n",
    "        time_of_2 = 1e-9*(std::chrono::high_resolution_clock::now() - t0).count();          \n",
    "      }); \n",
    "    }\n",
    "  );\n",
    "    \n",
    "  std::cout << \"Ran test with on hw with \" << hw_threads << \" threads\\n\"\n",
    "            << \" test_1 ran using \" << num_threads_1 << \" threads in \" << time_of_1 << \" seconds.\\n\"\n",
    "            << \" test_2 ran using \" << num_threads_2 << \" threads in \" << time_of_2 << \" seconds.\\n\";\n",
    "}"
   ]
  },
  {
   "cell_type": "code",
   "execution_count": null,
   "metadata": {
    "jupyter": {
     "source_hidden": true
    }
   },
   "outputs": [],
   "source": [
    "! chmod 755 q; chmod 755 ./scripts/run_split-evenly-solved.sh; if [ -x \"$(command -v qsub)\" ]; then ./q scripts/run_split-evenly-solved.sh; else ./scripts/run_split-evenly-solved.sh; fi"
   ]
  },
  {
   "cell_type": "markdown",
   "metadata": {},
   "source": [
    "### Splitting the threads up unevenly\n",
    "\n",
    "And of course, once we explicitly set the concurrency limit, we don't have to split the threads up\n",
    "evenly.\n",
    "\n",
    "For this exercise, complete the following steps:\n",
    "1. Inspect the code cell below and make the following modifications.\n",
    "  1. Change the value passed to one of the task_arena objects from INCORRECT_VALUE to 2.\n",
    "  2. Change the value passed to the other task_arenas object from INCORRECT_VALUE to `hw_threads-2`.\n",
    "2. When the modifications are complete, click run ▶ to save the code to a file.\n",
    "3. Run ▶ the cell in the __Build and Run__ section below the code snippet to compile and execute the code in the saved file"
   ]
  },
  {
   "cell_type": "code",
   "execution_count": null,
   "metadata": {},
   "outputs": [],
   "source": [
    "%%writefile lab/split-unevenly.cpp\n",
    "//==============================================================\n",
    "// Copyright (c) 2020 Intel Corporation\n",
    "//\n",
    "// SPDX-License-Identifier: Apache-2.0\n",
    "// =============================================================\n",
    "\n",
    "#include <chrono>\n",
    "#include <iostream>\n",
    "#include <tbb/tbb.h>\n",
    "\n",
    "#include \"../common/test_function.h\"\n",
    "\n",
    "#define INCORRECT_VALUE hw_threads\n",
    "\n",
    "int main() {\n",
    "  const int hw_threads = std::thread::hardware_concurrency();\n",
    "  // STEP A: pass 2 to the constructor of one arena\n",
    "  tbb::task_arena ta1(INCORRECT_VALUE);\n",
    "  // STEP B: pass hw_threads-2 to the constructor of the other\n",
    "  tbb::task_arena ta2(INCORRECT_VALUE);\n",
    "\n",
    "  // warm-up\n",
    "  tbb::parallel_invoke(\n",
    "    [&]() { ta1.execute([]() { run_test(); }); },\n",
    "    [&]() { ta2.execute([]() { run_test_2(); }); }\n",
    "  );\n",
    "    \n",
    "  // run test\n",
    "  int num_threads_1, num_threads_2;\n",
    "  double time_of_1, time_of_2;\n",
    "  tbb::parallel_invoke(\n",
    "    [&]() { \n",
    "      ta1.execute([&]() {\n",
    "        auto t0 = std::chrono::high_resolution_clock::now();\n",
    "        num_threads_1 = run_test();\n",
    "        time_of_1 = 1e-9*(std::chrono::high_resolution_clock::now() - t0).count();\n",
    "      }); \n",
    "    },\n",
    "    [&]() { \n",
    "      ta2.execute([&]() {\n",
    "        auto t0 = std::chrono::high_resolution_clock::now();\n",
    "        num_threads_2 = run_test_2(); \n",
    "        time_of_2 = 1e-9*(std::chrono::high_resolution_clock::now() - t0).count();          \n",
    "      }); \n",
    "    }\n",
    "  );\n",
    "    \n",
    "  std::cout << \"Ran test with on hw with \" << hw_threads << \" threads\\n\"\n",
    "            << \" test_1 ran using \" << num_threads_1 << \" threads in \" << time_of_1 << \" seconds.\\n\"\n",
    "            << \" test_2 ran using \" << num_threads_2 << \" threads in \" << time_of_2 << \" seconds.\\n\";\n",
    "}"
   ]
  },
  {
   "cell_type": "markdown",
   "metadata": {},
   "source": [
    "### Build and Run\n",
    "Select the cell below and click Run ▶ to compile and execute the code above:"
   ]
  },
  {
   "cell_type": "code",
   "execution_count": null,
   "metadata": {},
   "outputs": [],
   "source": [
    "! chmod 755 q; chmod 755 ./scripts/run_split-unevenly.sh; if [ -x \"$(command -v qsub)\" ]; then ./q scripts/run_split-unevenly.sh; else ./scripts/run_split-unevenly.sh; fi"
   ]
  },
  {
   "cell_type": "markdown",
   "metadata": {},
   "source": [
    "### split-unevenly solution (Don't peak unless you have to)"
   ]
  },
  {
   "cell_type": "code",
   "execution_count": null,
   "metadata": {
    "jupyter": {
     "source_hidden": true
    }
   },
   "outputs": [],
   "source": [
    "%%writefile solutions/split-unevenly-solved.cpp\n",
    "//==============================================================\n",
    "// Copyright (c) 2020 Intel Corporation\n",
    "//\n",
    "// SPDX-License-Identifier: Apache-2.0\n",
    "// =============================================================\n",
    "\n",
    "#include <chrono>\n",
    "#include <iostream>\n",
    "#include <tbb/tbb.h>\n",
    "\n",
    "#include \"../common/test_function.h\"\n",
    "\n",
    "#define INCORRECT_VALUE hw_threads\n",
    "\n",
    "int main() {\n",
    "  const int hw_threads = std::thread::hardware_concurrency();\n",
    "  // STEP A: pass 2 to the constructor of one arena\n",
    "  tbb::task_arena ta1(2);\n",
    "  // STEP B: pass hw_threads-2 to the constructor of the other\n",
    "  tbb::task_arena ta2(hw_threads-2);\n",
    "\n",
    "  // warm-up\n",
    "  tbb::parallel_invoke(\n",
    "    [&]() { ta1.execute([]() { run_test(); }); },\n",
    "    [&]() { ta2.execute([]() { run_test_2(); }); }\n",
    "  );\n",
    "    \n",
    "  // run test\n",
    "  int num_threads_1, num_threads_2;\n",
    "  double time_of_1, time_of_2;\n",
    "  tbb::parallel_invoke(\n",
    "    [&]() { \n",
    "      ta1.execute([&]() {\n",
    "        auto t0 = std::chrono::high_resolution_clock::now();\n",
    "        num_threads_1 = run_test();\n",
    "        time_of_1 = 1e-9*(std::chrono::high_resolution_clock::now() - t0).count();\n",
    "      }); \n",
    "    },\n",
    "    [&]() { \n",
    "      ta2.execute([&]() {\n",
    "        auto t0 = std::chrono::high_resolution_clock::now();\n",
    "        num_threads_2 = run_test_2(); \n",
    "        time_of_2 = 1e-9*(std::chrono::high_resolution_clock::now() - t0).count();          \n",
    "      }); \n",
    "    }\n",
    "  );\n",
    "    \n",
    "  std::cout << \"Ran test with on hw with \" << hw_threads << \" threads\\n\"\n",
    "            << \" test_1 ran using \" << num_threads_1 << \" threads in \" << time_of_1 << \" seconds.\\n\"\n",
    "            << \" test_2 ran using \" << num_threads_2 << \" threads in \" << time_of_2 << \" seconds.\\n\";\n",
    "}"
   ]
  },
  {
   "cell_type": "code",
   "execution_count": null,
   "metadata": {
    "jupyter": {
     "source_hidden": true
    }
   },
   "outputs": [],
   "source": [
    "! chmod 755 q; chmod 755 ./scripts/run_split-unevenly-solved.sh; if [ -x \"$(command -v qsub)\" ]; then ./q scripts/run_split-unevenly-solved.sh; else ./scripts/run_split-unevenly-solved.sh; fi"
   ]
  }
 ],
 "metadata": {
  "kernelspec": {
   "display_name": "Python 3.7 (Intel® oneAPI)",
   "language": "python",
   "name": "c009-intel_distribution_of_python_3_oneapi-beta05-python"
  },
  "language_info": {
   "codemirror_mode": {
    "name": "ipython",
    "version": 3
   },
   "file_extension": ".py",
   "mimetype": "text/x-python",
   "name": "python",
   "nbconvert_exporter": "python",
   "pygments_lexer": "ipython3",
   "version": "3.7.7"
  }
 },
 "nbformat": 4,
 "nbformat_minor": 4
}
